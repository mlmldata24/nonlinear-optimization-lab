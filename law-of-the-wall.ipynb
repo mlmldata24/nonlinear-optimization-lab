{
 "cells": [
  {
   "cell_type": "markdown",
   "metadata": {},
   "source": [
    "### Non-linear optimization: law of the wall\n",
    "\n",
    "In sediment transport studies, current velocity ($u$) as a function of height off the bottom ($z$) is often modeled by the \"law of the wall,\" or a logaritmic layer, through the following equation:\n",
    "\n",
    "$$ u = \\frac{u_*}{0.41}\\ln\\left(\\frac{z}{z_o}\\right) $$ \n",
    "\n",
    "The goal of fitting this model to profiles of $u$ and $z$ data is to obtain estimates of the parameters of the \"friction velocity\" $u_*$ and \"roughness length\" $z_o$. The friction velocity $u_*$ is related to the friction force acting on the seafloor - it can be compared to a critical value to determine if sediment will be suspended or not. The roughness length $z_o$ is measure of how rough the seafloor, either due to the grain size of the sediment or the size of ripples on the seafloor. Soulsby (1983) provides typical values for $z_o$:\n",
    "\n",
    "\n",
    "| Bottom Type      | $z_o$ (cm)  |\n",
    "| ---------------- | ----------- |\n",
    "| Mud              | 0.02        |\n",
    "| Mud/sand         | 0.07        |\n",
    "| Silt/sand        | 0.002       |\n",
    "| Sand (unrippled) | 0.04        |\n",
    "| Sand (rippled)   | 0.6         |\n",
    "| Sand/shell       | 0.03        |\n",
    "| Silt/gravel      | 0.03        |\n",
    "| Mud/sand/gravel  | 0.03        |\n",
    "| Gravel           | 0.3         |"
   ]
  },
  {
   "cell_type": "code",
   "execution_count": 1,
   "metadata": {},
   "outputs": [],
   "source": [
    "import numpy as np\n",
    "import matplotlib.pyplot as plt\n",
    "import pandas as pd\n",
    "from scipy import stats\n",
    "from scipy.optimize import curve_fit"
   ]
  },
  {
   "cell_type": "markdown",
   "metadata": {},
   "source": [
    "The following arrays contain data for a vertical profile of velocity above the seabed along the Eel River margin off northern California."
   ]
  },
  {
   "cell_type": "code",
   "execution_count": 10,
   "metadata": {},
   "outputs": [],
   "source": [
    "df = pd.DataFrame()\n",
    "df['z(cm)'] = np.array([22, 55, 89, 123])\n",
    "df['u(cm/s)'] = np.array([41.8, 50.4, 55.0, 58.4])\n"
   ]
  },
  {
   "cell_type": "markdown",
   "metadata": {},
   "source": [
    "##### Exercise:\n",
    "\n",
    "Make a plot of the data. "
   ]
  },
  {
   "cell_type": "code",
   "execution_count": 59,
   "metadata": {},
   "outputs": [
    {
     "data": {
      "text/plain": [
       "Text(0, 0.5, 'u (cm/s)')"
      ]
     },
     "execution_count": 59,
     "metadata": {},
     "output_type": "execute_result"
    },
    {
     "data": {
      "image/png": "[encoded data removed]",
      "text/plain": [
       "<Figure size 640x480 with 1 Axes>"
      ]
     },
     "metadata": {},
     "output_type": "display_data"
    }
   ],
   "source": [
    "plt.figure()\n",
    "plt.subplot(121)\n",
    "plt.plot(df['u(cm/s)'], df['z(cm)'], 'o')\n",
    "plt.xlabel('z (cm)')\n",
    "plt.ylabel('u (cm/s)')"
   ]
  },
  {
   "cell_type": "markdown",
   "metadata": {},
   "source": [
    "##### Exercise:\n",
    "\n",
    "Create a function called `loglayer` which returns the modeled \"law of the wall\" velocity as a function of $z$, $u_*$ and $z_o$. "
   ]
  },
  {
   "cell_type": "code",
   "execution_count": 14,
   "metadata": {},
   "outputs": [],
   "source": [
    "def loglayer(z, ustar, zo):\n",
    "    u = ustar/0.41 * np.log(z/zo)\n",
    "    return u"
   ]
  },
  {
   "cell_type": "markdown",
   "metadata": {},
   "source": [
    "##### Exercise:\n",
    "\n",
    "Use the `curve_fit` function in the `scipy.optimize` module to determine the best-fit values fo $u_*$ and $z_o$ based on the data given. What type of sediment do you think this is?"
   ]
  },
  {
   "cell_type": "code",
   "execution_count": 45,
   "metadata": {},
   "outputs": [
    {
     "name": "stderr",
     "output_type": "stream",
     "text": [
      "/Users/tconnolly/opt/miniconda3/envs/ms263-24/lib/python3.11/site-packages/pandas/core/arraylike.py:396: RuntimeWarning: invalid value encountered in log\n",
      "  result = getattr(ufunc, method)(*inputs, **kwargs)\n"
     ]
    }
   ],
   "source": [
    "p, pcov = curve_fit(loglayer, df['z(cm)'], df['u(cm/s)'])"
   ]
  },
  {
   "cell_type": "code",
   "execution_count": 51,
   "metadata": {},
   "outputs": [
    {
     "data": {
      "text/plain": [
       "array([[0.00315322, 0.0012207 ],\n",
       "       [0.0012207 , 0.0004795 ]])"
      ]
     },
     "execution_count": 51,
     "metadata": {},
     "output_type": "execute_result"
    }
   ],
   "source": [
    "pcov"
   ]
  },
  {
   "cell_type": "code",
   "execution_count": 47,
   "metadata": {},
   "outputs": [],
   "source": [
    "ustar = p[0]\n",
    "zo = p[1]"
   ]
  },
  {
   "cell_type": "code",
   "execution_count": 48,
   "metadata": {},
   "outputs": [
    {
     "data": {
      "text/plain": [
       "3.9332503305003326"
      ]
     },
     "execution_count": 48,
     "metadata": {},
     "output_type": "execute_result"
    }
   ],
   "source": [
    "ustar"
   ]
  },
  {
   "cell_type": "code",
   "execution_count": 49,
   "metadata": {},
   "outputs": [
    {
     "data": {
      "text/plain": [
       "0.2841904736735094"
      ]
     },
     "execution_count": 49,
     "metadata": {},
     "output_type": "execute_result"
    }
   ],
   "source": [
    "zo"
   ]
  },
  {
   "cell_type": "markdown",
   "metadata": {},
   "source": [
    "##### Exercise:\n",
    "\n",
    "Plot the model with the data. Make sure the model looks like a smooth curve."
   ]
  },
  {
   "cell_type": "code",
   "execution_count": 37,
   "metadata": {},
   "outputs": [],
   "source": [
    "z = np.linspace(zo, 130, 1000)"
   ]
  },
  {
   "cell_type": "code",
   "execution_count": 39,
   "metadata": {},
   "outputs": [
    {
     "data": {
      "text/plain": [
       "Text(0, 0.5, 'u (cm/s)')"
      ]
     },
     "execution_count": 39,
     "metadata": {},
     "output_type": "execute_result"
    },
    {
     "data": {
      "image/png": "[encoded data removed]",
      "text/plain": [
       "<Figure size 640x480 with 1 Axes>"
      ]
     },
     "metadata": {},
     "output_type": "display_data"
    }
   ],
   "source": [
    "plt.figure()\n",
    "plt.subplot(121)\n",
    "plt.plot(df['u(cm/s)'], df['z(cm)'], 'o')\n",
    "plt.plot(loglayer(z, ustar, zo), z, '-')\n",
    "plt.xlabel('z (cm)')\n",
    "plt.ylabel('u (cm/s)')"
   ]
  },
  {
   "cell_type": "markdown",
   "metadata": {},
   "source": [
    "##### Exercise:\n",
    "\n",
    "When Tom's Geo Oce professor made him do this by hand (by drawing a straight line through the data on logarithmic graph paper) he got $u_*$ = 3.98 cm/s and $z_o$ = 0.30 cm. Is this \"hand\" estimate within the uncertainty of your estimate (as defined by the standard errors of the coefficients)?"
   ]
  },
  {
   "cell_type": "code",
   "execution_count": 52,
   "metadata": {},
   "outputs": [
    {
     "data": {
      "text/plain": [
       "0.2841904736735094"
      ]
     },
     "execution_count": 52,
     "metadata": {},
     "output_type": "execute_result"
    }
   ],
   "source": [
    "zo"
   ]
  },
  {
   "cell_type": "code",
   "execution_count": 53,
   "metadata": {},
   "outputs": [
    {
     "data": {
      "text/plain": [
       "0.02189743361721941"
      ]
     },
     "execution_count": 53,
     "metadata": {},
     "output_type": "execute_result"
    }
   ],
   "source": [
    "np.sqrt(pcov[1,1])"
   ]
  },
  {
   "cell_type": "code",
   "execution_count": 57,
   "metadata": {},
   "outputs": [
    {
     "name": "stdout",
     "output_type": "stream",
     "text": [
      "3.8770968158129175 3.9894038451877476\n"
     ]
    }
   ],
   "source": [
    "print(ustar - np.sqrt(pcov[0,0]), ustar + np.sqrt(pcov[0,0]))"
   ]
  },
  {
   "cell_type": "code",
   "execution_count": 58,
   "metadata": {},
   "outputs": [
    {
     "name": "stdout",
     "output_type": "stream",
     "text": [
      "0.26229304005629 0.3060879072907288\n"
     ]
    }
   ],
   "source": [
    "print(zo - np.sqrt(pcov[1,1]), zo + np.sqrt(pcov[1,1]))"
   ]
  },
  {
   "cell_type": "code",
   "execution_count": null,
   "metadata": {},
   "outputs": [],
   "source": []
  }
 ],
 "metadata": {
  "kernelspec": {
   "display_name": "ms263-24",
   "language": "python",
   "name": "python3"
  },
  "language_info": {
   "codemirror_mode": {
    "name": "ipython",
    "version": 3
   },
   "file_extension": ".py",
   "mimetype": "text/x-python",
   "name": "python",
   "nbconvert_exporter": "python",
   "pygments_lexer": "ipython3",
   "version": "3.11.7"
  }
 },
 "nbformat": 4,
 "nbformat_minor": 2
}
