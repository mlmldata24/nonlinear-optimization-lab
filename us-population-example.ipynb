{
 "cells": [
  {
   "cell_type": "markdown",
   "metadata": {},
   "source": [
    "## Week 08 Lab\n",
    "\n",
    "### Modeling exponential growth of US population\n",
    "\n",
    "The goal of this exerice is to find the parameters of an exponential fit of US population growth with time\n",
    "\n",
    "$$ y = a_1 \\exp(a_2t) $$\n",
    "\n",
    "where $y$ is population and $t$ is time in years.\n",
    "\n",
    "Data for this exercise is located in a text file in the [uspopulation](uspopulation) directory.\n",
    "\n",
    "This exercise is based on Chapter 38 of Shapiro, B. E. (2016) Scientific Computation: Python Hacking for Math Junkies, Sherwood Forest Publishing."
   ]
  },
  {
   "cell_type": "code",
   "execution_count": 2,
   "metadata": {},
   "outputs": [],
   "source": [
    "import numpy as np\n",
    "import pandas as pd\n",
    "import matplotlib.pyplot as plt\n",
    "from scipy import stats"
   ]
  },
  {
   "cell_type": "markdown",
   "metadata": {},
   "source": [
    "First, read in the data and put into variables that are easy to remember and type."
   ]
  },
  {
   "cell_type": "code",
   "execution_count": 2,
   "metadata": {},
   "outputs": [],
   "source": [
    "df = pd.read_csv('uspopulation/us-population.txt',header=2)\n",
    "yr = df['YR']\n",
    "pop = df['USPOP']"
   ]
  },
  {
   "cell_type": "markdown",
   "metadata": {},
   "source": [
    "Since this example is focused on the US, create a new variable where the year is referenced to the founding of the US."
   ]
  },
  {
   "cell_type": "code",
   "execution_count": null,
   "metadata": {},
   "outputs": [],
   "source": []
  },
  {
   "cell_type": "markdown",
   "metadata": {},
   "source": [
    "#### Plotting the data"
   ]
  },
  {
   "cell_type": "code",
   "execution_count": null,
   "metadata": {},
   "outputs": [],
   "source": []
  },
  {
   "cell_type": "code",
   "execution_count": null,
   "metadata": {},
   "outputs": [],
   "source": []
  },
  {
   "cell_type": "markdown",
   "metadata": {},
   "source": [
    "##### Exercises:\n",
    "\n",
    "* Estimate the parameters $a_1$ and $a_2$ is to performing a linear least-squares fit to the log-transformed data shown above. Note that log-transforming both sides of the first equation gives $\\ln(y) = \\ln(a_1) + a_2 t$\n",
    "\n",
    "* Plot the original data (not transformed) and the exponential fit using these parameters."
   ]
  },
  {
   "cell_type": "markdown",
   "metadata": {},
   "source": [
    "### Visualizing the cost function\n",
    "\n",
    "An extremely inefficient way of optimizing the parameters would be to try every possible combination of parameters within some range. This is called the \"brute force\" method because it relies on computer power rather than intelligence.\n",
    "\n",
    "Even though it is inefficient, it is a good way to visualize the cost function in two dimensions."
   ]
  },
  {
   "cell_type": "code",
   "execution_count": null,
   "metadata": {},
   "outputs": [],
   "source": [
    "# plot the (square root of) the cost function \n",
    "# as a function of fit paramters\n",
    "alla1 = np.linspace(0,3e4,200) \n",
    "alla2 = np.linspace(0,0.025,200)\n",
    "\n",
    "# pre-allocate error matrix\n",
    "rms = np.nan*np.ones([len(alla1),len(alla2)])\n",
    "\n",
    "# nested for loop\n",
    "# go through each combination of parameter pairs in that range\n",
    "# 200 x 200 = 40000 values\n",
    "for ii,a1 in enumerate(alla1):\n",
    "    for jj,a2 in enumerate(alla2):\n",
    "        popfit = a1*np.exp(a2*t)\n",
    "        rms[ii,jj] = np.sqrt(np.mean((popfit-pop)**2))\n",
    "\n",
    "plt.figure()\n",
    "plt.pcolor(alla2,alla1,np.log(rms),cmap='viridis')\n",
    "#plt.plot(slope,np.exp(intercept),'ro')\n",
    "plt.colorbar()\n",
    "plt.title('log(RMS error): $a_1\\exp(a_2*t)$')\n",
    "plt.xlabel('$a_2$')\n",
    "plt.ylabel('$a_1$')"
   ]
  },
  {
   "cell_type": "markdown",
   "metadata": {},
   "source": [
    "### Non-linear optimization\n",
    "\n",
    "The first step in this process is to define the function that you want to fit to data.\n",
    "\n",
    "##### Exercise: insert code for the function below"
   ]
  },
  {
   "cell_type": "code",
   "execution_count": 10,
   "metadata": {},
   "outputs": [],
   "source": [
    "def exponential_growth(t,a1,a2):\n",
    "    '''inputs:\n",
    "    t - vector of times\n",
    "    a1 - initial population at time 0\n",
    "    a2 - specific growth rate\n",
    "    \n",
    "    returns: modeled population based on exponential growth equation\n",
    "    '''\n",
    "    # insert code here\n",
    "    "
   ]
  },
  {
   "cell_type": "code",
   "execution_count": null,
   "metadata": {},
   "outputs": [],
   "source": []
  },
  {
   "cell_type": "code",
   "execution_count": null,
   "metadata": {},
   "outputs": [],
   "source": []
  },
  {
   "cell_type": "markdown",
   "metadata": {},
   "source": [
    "The `scipy.optimize` library can be used to find the unknown coefficients. The `curve_fit` function is especially good at find the minima of cost functions. It needs to have 1) the function being fit (`exponential_growth1`) and 2) the data values (`t`,`pop`). It also really helps to have a good initial guess for the parameter values (`p0`)."
   ]
  },
  {
   "cell_type": "code",
   "execution_count": 21,
   "metadata": {},
   "outputs": [],
   "source": []
  },
  {
   "cell_type": "markdown",
   "metadata": {},
   "source": [
    "The first variable in the output (`popt`) is the two coefficients that give the optimal fit to the data."
   ]
  },
  {
   "cell_type": "code",
   "execution_count": null,
   "metadata": {},
   "outputs": [],
   "source": []
  },
  {
   "cell_type": "markdown",
   "metadata": {},
   "source": [
    "### Estimating error of coefficients\n",
    "\n",
    "The second variable in the output (`pcov`) is the error covariance matrix."
   ]
  },
  {
   "cell_type": "code",
   "execution_count": null,
   "metadata": {},
   "outputs": [],
   "source": []
  },
  {
   "cell_type": "markdown",
   "metadata": {},
   "source": [
    "The diagonal elements of the covariance matrix can be thought of as the variance that there would be in the coefficient if you resampled many times and repeated the fit procedure. This could be estimated from the data using subsets of the data.\n",
    "\n",
    "The square root of the diagonals are called the _standard errors_ of the parameter estimates (e.g. $\\sigma_a$ for parameter estimate $\\hat{a}$). If you resampled many times, and the errors are normally distributed, then about 68% of the parameter estimates would fall in the interval $\\hat{a}-\\sigma_a < a < \\hat{a}+\\sigma_a$. Confidence intervals can be computed using the standard error and the t-statistic."
   ]
  },
  {
   "cell_type": "code",
   "execution_count": null,
   "metadata": {},
   "outputs": [],
   "source": []
  },
  {
   "cell_type": "markdown",
   "metadata": {},
   "source": [
    "The diagonals of the error covariance matrix decribe correlations that occur in estimates of the different parameters. For example, if you resample many times, does parameter $a$ usually increase when parameter $b$ increases? If so, this means that the parameters covary when resampling, and this would result in a positive error covariance term."
   ]
  },
  {
   "cell_type": "code",
   "execution_count": 25,
   "metadata": {},
   "outputs": [
    {
     "name": "stderr",
     "output_type": "stream",
     "text": [
      "<ipython-input-25-34753d424436>:2: MatplotlibDeprecationWarning: shading='flat' when X and Y have the same dimensions as C is deprecated since 3.3.  Either specify the corners of the quadrilaterals with X and Y, or pass shading='auto', 'nearest' or 'gouraud', or set rcParams['pcolor.shading'].  This will become an error two minor releases later.\n",
      "  plt.pcolor(alla2,alla1,np.log(rms),cmap='viridis')\n"
     ]
    },
    {
     "data": {
      "text/plain": [
       "[<matplotlib.lines.Line2D at 0x1597c6070>]"
      ]
     },
     "execution_count": 25,
     "metadata": {},
     "output_type": "execute_result"
    },
    {
     "data": {
      "image/png": "[encoded data removed]",
      "text/plain": [
       "<Figure size 432x288 with 2 Axes>"
      ]
     },
     "metadata": {
      "needs_background": "light"
     },
     "output_type": "display_data"
    }
   ],
   "source": [
    "plt.figure()\n",
    "plt.pcolor(alla2,alla1,np.log(rms),cmap='viridis')\n",
    "plt.colorbar()\n",
    "#plt.plot(slope,np.exp(intercept),'ro')\n",
    "#plt.plot(popt[1],popt[0],'rs')\n",
    "plt.title('log(RMS error): $a_1\\exp(a_2*t)$')\n",
    "plt.xlabel('$a_2$')\n",
    "plt.ylabel('$a_1$')\n",
    "\n",
    "plt.plot([popt[1]-err[1],popt[1]+err[1]],\n",
    "         [popt[0],popt[0]],'r-')\n",
    "plt.plot([popt[1],popt[1]],\n",
    "         [popt[0]-err[0],popt[0]+err[0]],'r-')"
   ]
  },
  {
   "cell_type": "markdown",
   "metadata": {},
   "source": [
    "Plotting the parameter estimate on the map of the cost function shows that the nonlinear optimization procedure (square) succeeds in finding the minimum of the cost function, thus minimizing the sum of squared differences between the data values and corresponding model values.\n",
    "\n",
    "The standard errors can be visualized in this map of the cost function. The height and width of the red error bars are determined by the standard errors of the coefficients. "
   ]
  },
  {
   "cell_type": "markdown",
   "metadata": {},
   "source": [
    "### Excercises"
   ]
  },
  {
   "cell_type": "markdown",
   "metadata": {},
   "source": [
    "* Plot the parameters obtained from the linear regression of the log-transformed data on the cost function map.\n",
    "* Use the optimization techniques described above to fit an exponential curve to the data from a sediment transport study or phytoplankton growth experiments (see other notebooks)."
   ]
  },
  {
   "cell_type": "markdown",
   "metadata": {},
   "source": []
  }
 ],
 "metadata": {
  "anaconda-cloud": {},
  "kernelspec": {
   "display_name": "Python 3 (ipykernel)",
   "language": "python",
   "name": "python3"
  },
  "language_info": {
   "codemirror_mode": {
    "name": "ipython",
    "version": 3
   },
   "file_extension": ".py",
   "mimetype": "text/x-python",
   "name": "python",
   "nbconvert_exporter": "python",
   "pygments_lexer": "ipython3",
   "version": "3.8.12"
  }
 },
 "nbformat": 4,
 "nbformat_minor": 4
}
