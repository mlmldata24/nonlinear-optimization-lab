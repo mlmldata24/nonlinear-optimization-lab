{
 "cells": [
  {
   "cell_type": "markdown",
   "metadata": {},
   "source": [
    "### Non-linear optimization: diatom growth curves\n",
    "\n",
    "The [growth_data](growth_data) directory contains data from two phytoplankton growth experiments. In each experiment, Coscinodiscus diatoms, isolated from a station in the Amazon river plume, were grown in nutrient replete media. Files are given for two experiments. Your goal is to estimate the specific growth rate for each experiment, and to quantify the uncertainty in that parameter, based on a model for exponential growth of a popoulation $y$ with time $t$.:\n",
    "\n",
    "$$ \\hat{y} = c_0 e^{c_1 t}$$\n",
    "\n",
    "The directory contains a [readme file](growth_data/readme.txt) that describes the data.\n",
    "\n",
    "a. For each experiment, plot the fluorescence data as a function of time since the start of the experiment.\n",
    "\n",
    "b. For each experiment, make a plot showing the least-squares fit to the log-transformed fluorescence data.\n",
    "\n",
    "c. For each experiment, use the`curve_fit` function in the `scipy.optimize` library to fit an exponential curve to the data to obtain the specific growth rate. Use the parameters from the least squares fit to log-transformed data (obtained in part c) as a first guess.\n",
    "\n",
    "d. For each experiment, plot the exponential fit with the data.\n",
    "\n",
    "e. Print the specific growth rate values, with their standard errors.\n",
    "\n",
    "f. Comment on the applicability of the exponential model and the uncertainty in the growth rate estimates.\n",
    "\n",
    "g. Glover, Jenkins and Doney (see resources on Canvas) discuss an alternative model that includes a constant \"baseline\" population before the onset of exponential growth:\n",
    "\n",
    "$$ \\hat{y} = b_2 + b_0 e^{b_1 t}$$\n",
    "\n",
    "Fit this model to one of the experimental data sets and discuss whether you think this alternative model is more appropriate for this data set."
   ]
  },
  {
   "cell_type": "code",
   "execution_count": 1,
   "metadata": {
    "tags": []
   },
   "outputs": [],
   "source": [
    "import numpy as np\n",
    "import matplotlib.pyplot as plt\n",
    "import pandas as pd\n",
    "from scipy import stats\n",
    "from scipy.optimize import curve_fit"
   ]
  },
  {
   "cell_type": "code",
   "execution_count": 2,
   "metadata": {},
   "outputs": [],
   "source": [
    "df1 = pd.read_table('growth_data/B7-1.txt',skiprows=1)\n",
    "df2 = pd.read_table('growth_data/B7-2.txt',skiprows=1)"
   ]
  },
  {
   "cell_type": "code",
   "execution_count": null,
   "metadata": {},
   "outputs": [],
   "source": []
  }
 ],
 "metadata": {
  "anaconda-cloud": {},
  "kernelspec": {
   "display_name": "Python 3 (ipykernel)",
   "language": "python",
   "name": "python3"
  },
  "language_info": {
   "codemirror_mode": {
    "name": "ipython",
    "version": 3
   },
   "file_extension": ".py",
   "mimetype": "text/x-python",
   "name": "python",
   "nbconvert_exporter": "python",
   "pygments_lexer": "ipython3",
   "version": "3.10.6"
  }
 },
 "nbformat": 4,
 "nbformat_minor": 4
}
